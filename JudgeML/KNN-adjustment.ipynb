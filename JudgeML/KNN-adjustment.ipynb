{
 "cells": [
  {
   "cell_type": "markdown",
   "metadata": {},
   "source": [
    "# K-Nearest Neighbor"
   ]
  },
  {
   "cell_type": "code",
   "execution_count": 2,
   "metadata": {},
   "outputs": [
    {
     "data": {
      "text/html": [
       "<div>\n",
       "<style scoped>\n",
       "    .dataframe tbody tr th:only-of-type {\n",
       "        vertical-align: middle;\n",
       "    }\n",
       "\n",
       "    .dataframe tbody tr th {\n",
       "        vertical-align: top;\n",
       "    }\n",
       "\n",
       "    .dataframe thead th {\n",
       "        text-align: right;\n",
       "    }\n",
       "</style>\n",
       "<table border=\"1\" class=\"dataframe\">\n",
       "  <thead>\n",
       "    <tr style=\"text-align: right;\">\n",
       "      <th></th>\n",
       "      <th>record</th>\n",
       "      <th>location</th>\n",
       "      <th>compromise</th>\n",
       "      <th>content</th>\n",
       "      <th>education</th>\n",
       "      <th>mindset</th>\n",
       "      <th>financial</th>\n",
       "      <th>support</th>\n",
       "      <th>attitude</th>\n",
       "      <th>confess</th>\n",
       "      <th>sequel</th>\n",
       "      <th>crime</th>\n",
       "      <th>label</th>\n",
       "    </tr>\n",
       "  </thead>\n",
       "  <tbody>\n",
       "    <tr>\n",
       "      <th>0</th>\n",
       "      <td>1</td>\n",
       "      <td>0</td>\n",
       "      <td>0</td>\n",
       "      <td>2</td>\n",
       "      <td>0</td>\n",
       "      <td>0</td>\n",
       "      <td>0</td>\n",
       "      <td>0</td>\n",
       "      <td>0</td>\n",
       "      <td>0</td>\n",
       "      <td>0</td>\n",
       "      <td>0</td>\n",
       "      <td>9</td>\n",
       "    </tr>\n",
       "    <tr>\n",
       "      <th>1</th>\n",
       "      <td>0</td>\n",
       "      <td>1</td>\n",
       "      <td>0</td>\n",
       "      <td>0</td>\n",
       "      <td>0</td>\n",
       "      <td>0</td>\n",
       "      <td>0</td>\n",
       "      <td>1</td>\n",
       "      <td>2</td>\n",
       "      <td>0</td>\n",
       "      <td>0</td>\n",
       "      <td>0</td>\n",
       "      <td>9</td>\n",
       "    </tr>\n",
       "    <tr>\n",
       "      <th>2</th>\n",
       "      <td>0</td>\n",
       "      <td>0</td>\n",
       "      <td>0</td>\n",
       "      <td>0</td>\n",
       "      <td>0</td>\n",
       "      <td>0</td>\n",
       "      <td>0</td>\n",
       "      <td>0</td>\n",
       "      <td>0</td>\n",
       "      <td>0</td>\n",
       "      <td>0</td>\n",
       "      <td>0</td>\n",
       "      <td>7</td>\n",
       "    </tr>\n",
       "  </tbody>\n",
       "</table>\n",
       "</div>"
      ],
      "text/plain": [
       "   record  location  compromise  content  education  mindset  financial  \\\n",
       "0       1         0           0        2          0        0          0   \n",
       "1       0         1           0        0          0        0          0   \n",
       "2       0         0           0        0          0        0          0   \n",
       "\n",
       "   support  attitude  confess  sequel  crime  label  \n",
       "0        0         0        0       0      0      9  \n",
       "1        1         2        0       0      0      9  \n",
       "2        0         0        0       0      0      7  "
      ]
     },
     "execution_count": 2,
     "metadata": {},
     "output_type": "execute_result"
    }
   ],
   "source": [
    "import numpy as np\n",
    "import pandas as pd\n",
    "from sklearn import neighbors, datasets\n",
    "from sklearn.model_selection import train_test_split\n",
    "from sklearn import preprocessing\n",
    "from sklearn.metrics import accuracy_score, confusion_matrix\n",
    "from sklearn.preprocessing import StandardScaler\n",
    "from sklearn.model_selection import GridSearchCV\n",
    "df = pd.read_csv('./JudgeTest.csv')\n",
    "df.head(3)\n"
   ]
  },
  {
   "cell_type": "code",
   "execution_count": 123,
   "metadata": {},
   "outputs": [],
   "source": [
    "X = df.drop('label',axis=1)\n",
    "y = df['label']\n",
    "\n",
    "scaler = preprocessing.StandardScaler().fit(X)\n",
    "X = scaler.transform(X)"
   ]
  },
  {
   "cell_type": "code",
   "execution_count": 124,
   "metadata": {},
   "outputs": [
    {
     "name": "stdout",
     "output_type": "stream",
     "text": [
      "KNeighborsClassifier(algorithm='brute', n_neighbors=3, p=1, weights='distance')\n",
      "{'algorithm': 'brute', 'n_neighbors': 3, 'p': 1, 'weights': 'distance'}\n",
      "0.6879487179487179\n"
     ]
    }
   ],
   "source": [
    "# 設定要調整的參數\n",
    "parameters = {'algorithm':('auto', 'ball_tree', 'kd_tree', 'brute'),'weights' :('uniform','distance'),'n_neighbors':list(range(1,21)),'p':list(range(1,11))}\n",
    "# 建立空模\n",
    "model = neighbors.KNeighborsClassifier()\n",
    "# 將空模跟參數餵進GridSearchCV\n",
    "clf = GridSearchCV(model, parameters)\n",
    "# 餵data\n",
    "clf.fit(X, y)\n",
    "# 印出最佳參數\n",
    "print(clf.best_estimator_)\n",
    "print(clf.best_params_)\n",
    "print(clf.best_score_)\n",
    "# 看詳細result\n",
    "#pd.DataFrame(clf.cv_results_)"
   ]
  },
  {
   "cell_type": "code",
   "execution_count": 39,
   "metadata": {},
   "outputs": [
    {
     "name": "stdout",
     "output_type": "stream",
     "text": [
      "bestK: 2\n",
      "bestP: 1\n",
      "bestScore: 0.85\n"
     ]
    }
   ],
   "source": [
    "X = df.drop('label',axis=1)\n",
    "y = df['label']\n",
    "\n",
    "X_train, X_test, y_train, y_test = train_test_split(X, y, test_size=0.1)\n",
    "\n",
    "scaler = preprocessing.StandardScaler().fit(X_train)\n",
    "X_train = scaler.transform(X_train)\n",
    "X_test = scaler.transform(X_test)\n",
    "\n",
    "# bestK = 0\n",
    "# bestP = 0\n",
    "# bestScore = 0\n",
    "\n",
    "# for k in range(1, 20):\n",
    "#     for p in range(1, 10):\n",
    "#         model = neighbors.KNeighborsClassifier(weights = 'distance', n_neighbors = k, p = p)\n",
    "#         model.fit(X_train, y_train)\n",
    "#         score = model.score(X_test, y_test)\n",
    "#         if score > bestScore:\n",
    "#             bestK = k\n",
    "#             bestP = p\n",
    "#             bestScore = score\n",
    "            \n",
    "# print('bestK:', bestK)\n",
    "# print('bestP:', bestP)\n",
    "# print('bestScore:', bestScore)"
   ]
  },
  {
   "cell_type": "code",
   "execution_count": 182,
   "metadata": {},
   "outputs": [
    {
     "name": "stdout",
     "output_type": "stream",
     "text": [
      "number of correct sample: 30\n",
      "accuracy: 0.75\n",
      "score: 0.75\n",
      "confusion matrix: [[2 0 2 0 0 0 1 0 0 0]\n",
      " [0 4 0 0 0 0 0 0 0 0]\n",
      " [0 0 4 0 0 0 0 0 0 0]\n",
      " [0 0 0 4 0 0 0 0 0 0]\n",
      " [0 0 1 0 2 0 0 0 0 0]\n",
      " [1 0 0 0 0 5 0 0 0 0]\n",
      " [0 0 0 0 0 0 3 0 0 0]\n",
      " [0 0 0 0 0 0 0 2 0 0]\n",
      " [1 0 1 0 1 0 0 0 3 0]\n",
      " [0 0 0 0 0 0 0 2 0 1]]\n"
     ]
    }
   ],
   "source": [
    "X = df.drop('label',axis=1)\n",
    "y = df['label']\n",
    "\n",
    "X_train, X_test, y_train, y_test = train_test_split(X, y, test_size=0.2)\n",
    "\n",
    "scaler = preprocessing.StandardScaler().fit(X_train)\n",
    "X_train = scaler.transform(X_train)\n",
    "\n",
    "\n",
    "model = neighbors.KNeighborsClassifier(algorithm = 'brute', n_neighbors = 3, weights = 'distance', p = 1)\n",
    "# model = neighbors.KNeighborsClassifier(n_neighbors = 4, weights = 'distance', p = 1)\n",
    "model.fit(X_train, y_train)\n",
    "\n",
    "X_test = scaler.transform(X_test)\n",
    "y_pred = model.predict(X_test)\n",
    "\n",
    "accuracy = accuracy_score(y_test, y_pred)\n",
    "score = model.score(X_test, y_test)\n",
    "num_correct_samples = accuracy_score(y_test, y_pred, normalize=False)\n",
    "con_matrix = confusion_matrix(y_test, y_pred)\n",
    "\n",
    "print('number of correct sample: {}'.format(num_correct_samples))\n",
    "print('accuracy: {}'.format(accuracy))\n",
    "print('score: {}'.format(score))\n",
    "print('confusion matrix: {}'.format(con_matrix))\n"
   ]
  },
  {
   "cell_type": "code",
   "execution_count": null,
   "metadata": {},
   "outputs": [],
   "source": []
  },
  {
   "cell_type": "code",
   "execution_count": null,
   "metadata": {},
   "outputs": [],
   "source": []
  }
 ],
 "metadata": {
  "kernelspec": {
   "display_name": "Python 3",
   "language": "python",
   "name": "python3"
  },
  "language_info": {
   "codemirror_mode": {
    "name": "ipython",
    "version": 3
   },
   "file_extension": ".py",
   "mimetype": "text/x-python",
   "name": "python",
   "nbconvert_exporter": "python",
   "pygments_lexer": "ipython3",
   "version": "3.7.7"
  }
 },
 "nbformat": 4,
 "nbformat_minor": 5
}
