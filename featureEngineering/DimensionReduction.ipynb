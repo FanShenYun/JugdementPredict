{
 "cells": [
  {
   "cell_type": "code",
   "execution_count": null,
   "metadata": {},
   "outputs": [],
   "source": [
    "from sklearn.manifold import TSNE\n",
    "from sklearn.decomposition import TruncatedSVD\n",
    "%matplotlib inline\n",
    "import matplotlib.pyplot as plt\n",
    "from sklearn.decomposition import PCA\n",
    "import numpy as np\n",
    "import pandas as pd\n",
    "import os\n",
    "import re\n",
    "import seaborn as sns\n",
    "from sklearn import preprocessing\n",
    "from sklearn.preprocessing import LabelEncoder"
   ]
  },
  {
   "cell_type": "code",
   "execution_count": null,
   "metadata": {},
   "outputs": [],
   "source": [
    "df309 = pd.read_csv('real_309_5.csv')\n",
    "df310 = pd.read_csv('real_310_5.csv')"
   ]
  },
  {
   "cell_type": "code",
   "execution_count": null,
   "metadata": {},
   "outputs": [],
   "source": [
    "df309.info()"
   ]
  },
  {
   "cell_type": "code",
   "execution_count": null,
   "metadata": {},
   "outputs": [],
   "source": [
    "df310.info()"
   ]
  },
  {
   "cell_type": "code",
   "execution_count": null,
   "metadata": {},
   "outputs": [],
   "source": [
    "df309['court'].fillna(value='市區', inplace=True)"
   ]
  },
  {
   "cell_type": "code",
   "execution_count": null,
   "metadata": {},
   "outputs": [],
   "source": [
    "labelencoder = LabelEncoder() \n",
    "# 309\n",
    "df309_2 = df309.copy(deep=True)\n",
    "df309_2['simplejudge'] = labelencoder.fit_transform(df309_2['simplejudge']) \n",
    "df309_2['court'] = labelencoder.fit_transform(df309_2['court']) \n",
    "df309_2['record'] = labelencoder.fit_transform(df309_2['record']) \n",
    "df309_2['place'] = labelencoder.fit_transform(df309_2['place']) \n",
    "df309_2['compromise'] = labelencoder.fit_transform(df309_2['compromise']) \n",
    "df309_2['xword'] = labelencoder.fit_transform(df309_2['xword']) \n",
    "df309_2['education'] = labelencoder.fit_transform(df309_2['education']) \n",
    "df309_2['mind'] = labelencoder.fit_transform(df309_2['mind']) \n",
    "df309_2['financial'] = labelencoder.fit_transform(df309_2['financial']) \n",
    "df309_2['support'] = labelencoder.fit_transform(df309_2['support']) \n",
    "df309_2['attitude'] = labelencoder.fit_transform(df309_2['attitude']) \n",
    "df309_2['confess'] = labelencoder.fit_transform(df309_2['confess']) \n",
    "df309_2['law'] = labelencoder.fit_transform(df309_2['law'])\n",
    "df309_2['sequel'] = labelencoder.fit_transform(df309_2['sequel']) \n",
    "# 310\n",
    "df310_2 = df310.copy(deep=True)\n",
    "df310_2['simplejudge'] = labelencoder.fit_transform(df310_2['simplejudge']) \n",
    "df310_2['court'] = labelencoder.fit_transform(df310_2['court']) \n",
    "df310_2['record'] = labelencoder.fit_transform(df310_2['record']) \n",
    "df310_2['place'] = labelencoder.fit_transform(df310_2['place']) \n",
    "df310_2['compromise'] = labelencoder.fit_transform(df310_2['compromise']) \n",
    "df310_2['xword'] = labelencoder.fit_transform(df310_2['xword']) \n",
    "df310_2['education'] = labelencoder.fit_transform(df310_2['education']) \n",
    "df310_2['mind'] = labelencoder.fit_transform(df310_2['mind']) \n",
    "df310_2['financial'] = labelencoder.fit_transform(df310_2['financial']) \n",
    "df310_2['support'] = labelencoder.fit_transform(df310_2['support']) \n",
    "df310_2['attitude'] = labelencoder.fit_transform(df310_2['attitude']) \n",
    "df310_2['confess'] = labelencoder.fit_transform(df310_2['confess']) \n",
    "df310_2['law'] = labelencoder.fit_transform(df310_2['law'])\n",
    "df310_2['sequel'] = labelencoder.fit_transform(df310_2['sequel']) "
   ]
  },
  {
   "cell_type": "code",
   "execution_count": null,
   "metadata": {},
   "outputs": [],
   "source": [
    "# X309 = df309_2.drop(['label','id','years','law'],axis=1)\n",
    "# y309 = df309_2['label']\n",
    "X310 = df310_2.drop(['label','id','years','law'],axis=1)\n",
    "y310 = df310_2['label']"
   ]
  },
  {
   "cell_type": "code",
   "execution_count": null,
   "metadata": {},
   "outputs": [],
   "source": [
    "X310"
   ]
  },
  {
   "cell_type": "code",
   "execution_count": null,
   "metadata": {},
   "outputs": [],
   "source": [
    "X_test=X310\n",
    "y_test=y310"
   ]
  },
  {
   "cell_type": "code",
   "execution_count": null,
   "metadata": {},
   "outputs": [],
   "source": [
    "scaler = preprocessing.StandardScaler().fit(X_test)\n",
    "X_test = scaler.transform(X_test)"
   ]
  },
  {
   "cell_type": "code",
   "execution_count": null,
   "metadata": {},
   "outputs": [],
   "source": [
    "y_test.value_counts()"
   ]
  },
  {
   "cell_type": "code",
   "execution_count": null,
   "metadata": {},
   "outputs": [],
   "source": [
    "y_types = [5000,10000,30000,50000,100000]"
   ]
  },
  {
   "cell_type": "code",
   "execution_count": null,
   "metadata": {
    "scrolled": true
   },
   "outputs": [],
   "source": [
    "# MDS\n",
    "from sklearn.manifold import MDS\n",
    "mds=MDS(n_components=2) \n",
    "mds.fit(X_test)\n",
    "X_mds=mds.fit_transform(X_test)\n",
    "plt.figure(figsize=(6, 5))\n",
    "colors = '#6E58EA', '#58E6EA', '#58EA79', '#EAEA58', '#EA9858'\n",
    "for i, c, label in zip(y_types, colors, y_types):\n",
    "    plt.scatter(X_mds[y_test == i, 0], X_mds[y_test == i, 1], c=c, label=label,alpha=.7)\n",
    "plt.legend()\n",
    "plt.title('310 MDS')\n",
    "plt.show()"
   ]
  },
  {
   "cell_type": "code",
   "execution_count": null,
   "metadata": {},
   "outputs": [],
   "source": [
    "# PCA\n",
    "from sklearn.decomposition import PCA\n",
    "pca=PCA(n_components=2)\n",
    "pca.fit(X_test)\n",
    "X_PCA=pca.fit_transform(X_test)\n",
    "plt.figure(figsize=(6, 5))\n",
    "colors = '#6E58EA', '#58E6EA', '#58EA79', '#EAEA58', '#EA9858'\n",
    "for i, c, label in zip(y_types, colors, y_types):\n",
    "    plt.scatter(X_PCA[y_test == i, 0], X_PCA[y_test == i, 1], c=c, label=label,alpha=.7)\n",
    "plt.legend()\n",
    "plt.title('310 PCA')\n",
    "plt.show()"
   ]
  },
  {
   "cell_type": "code",
   "execution_count": null,
   "metadata": {
    "scrolled": true
   },
   "outputs": [],
   "source": [
    "# Isomap\n",
    "from sklearn.manifold import Isomap\n",
    "iso=Isomap(n_components=2)\n",
    "iso.fit(X_test)\n",
    "X_iso=iso.transform(X_test)\n",
    "plt.figure(figsize=(6, 5))\n",
    "colors = '#6E58EA', '#58E6EA', '#58EA79', '#EAEA58', '#EA9858'\n",
    "for i, c, label in zip(y_types, colors, y_types):\n",
    "    plt.scatter(X_iso[y_test == i, 0], X_iso[y_test == i, 1], c=c, label=label,alpha=.7)\n",
    "plt.legend()\n",
    "plt.title('310 Isomap')\n",
    "plt.show()"
   ]
  },
  {
   "cell_type": "code",
   "execution_count": null,
   "metadata": {},
   "outputs": [],
   "source": [
    "# SVD\n",
    "from sklearn.decomposition import TruncatedSVD\n",
    "%matplotlib inline\n",
    "\n",
    "svd = TruncatedSVD(2)\n",
    "X_SVD = svd.fit_transform(X_test)\n",
    "plt.figure(figsize=(6, 5))\n",
    "colors = '#6E58EA', '#58E6EA', '#58EA79', '#EAEA58', '#EA9858'\n",
    "for i, c, label in zip(y_types, colors, y_types):\n",
    "    plt.scatter(X_SVD[y_test == i, 0], X_SVD[y_test == i, 1], c=c, label=label,alpha=.7)\n",
    "plt.legend()\n",
    "plt.title('310 SVD')\n",
    "plt.show()"
   ]
  },
  {
   "cell_type": "code",
   "execution_count": null,
   "metadata": {},
   "outputs": [],
   "source": [
    "# T-sne\n",
    "from sklearn.manifold import TSNE\n",
    "tsne = TSNE(n_components=2, random_state=0)\n",
    "X_2d = tsne.fit_transform(X_test)\n",
    "\n",
    "from matplotlib import pyplot as plt\n",
    "plt.figure(figsize=(6, 5))\n",
    "colors = '#6E58EA', '#58E6EA', '#58EA79', '#EAEA58', '#EA9858'\n",
    "for i, c, label in zip(y_types, colors, y_types):\n",
    "    plt.scatter(X_2d[y_test == i, 0], X_2d[y_test == i, 1], c=c, label=label,alpha=.7)\n",
    "plt.legend()\n",
    "plt.title('310 T-sne')\n",
    "plt.show()"
   ]
  },
  {
   "cell_type": "code",
   "execution_count": null,
   "metadata": {},
   "outputs": [],
   "source": [
    "X_test=X309\n",
    "y_test=y309"
   ]
  },
  {
   "cell_type": "code",
   "execution_count": null,
   "metadata": {},
   "outputs": [],
   "source": [
    "scaler = preprocessing.StandardScaler().fit(X_test)\n",
    "X_test = scaler.transform(X_test)"
   ]
  },
  {
   "cell_type": "code",
   "execution_count": null,
   "metadata": {},
   "outputs": [],
   "source": [
    "y_test.value_counts()"
   ]
  },
  {
   "cell_type": "code",
   "execution_count": null,
   "metadata": {},
   "outputs": [],
   "source": [
    "y_types = [3000,5000,10000,20000,300000]"
   ]
  },
  {
   "cell_type": "code",
   "execution_count": null,
   "metadata": {},
   "outputs": [],
   "source": [
    "# MDS\n",
    "from sklearn.manifold import MDS\n",
    "mds=MDS(n_components=2) \n",
    "mds.fit(X_test)\n",
    "X_mds=mds.fit_transform(X_test)\n",
    "plt.figure(figsize=(6, 5))\n",
    "colors = '#6E58EA', '#58E6EA', '#58EA79', '#EAEA58', '#EA9858'\n",
    "for i, c, label in zip(y_types, colors, y_types):\n",
    "    plt.scatter(X_mds[y_test == i, 0], X_mds[y_test == i, 1], c=c, label=label,alpha=.7)\n",
    "plt.legend()\n",
    "plt.title('309 MDS')\n",
    "plt.show()"
   ]
  },
  {
   "cell_type": "code",
   "execution_count": null,
   "metadata": {},
   "outputs": [],
   "source": [
    "# PCA\n",
    "from sklearn.decomposition import PCA\n",
    "pca=PCA(n_components=2)\n",
    "pca.fit(X_test)\n",
    "X_PCA=pca.fit_transform(X_test)\n",
    "plt.figure(figsize=(6, 5))\n",
    "colors = '#6E58EA', '#58E6EA', '#58EA79', '#EAEA58', '#EA9858'\n",
    "for i, c, label in zip(y_types, colors, y_types):\n",
    "    plt.scatter(X_PCA[y_test == i, 0], X_PCA[y_test == i, 1], c=c, label=label,alpha=.7)\n",
    "plt.legend()\n",
    "plt.title('309 PCA')\n",
    "plt.show()"
   ]
  },
  {
   "cell_type": "code",
   "execution_count": null,
   "metadata": {},
   "outputs": [],
   "source": [
    "# Isomap\n",
    "from sklearn.manifold import Isomap\n",
    "iso=Isomap(n_components=2)\n",
    "iso.fit(X_test)\n",
    "X_iso=iso.transform(X_test)\n",
    "plt.figure(figsize=(6, 5))\n",
    "colors = '#6E58EA', '#58E6EA', '#58EA79', '#EAEA58', '#EA9858'\n",
    "for i, c, label in zip(y_types, colors, y_types):\n",
    "    plt.scatter(X_iso[y_test == i, 0], X_iso[y_test == i, 1], c=c, label=label,alpha=.3)\n",
    "plt.legend()\n",
    "plt.title('309 Isomap')\n",
    "plt.show()"
   ]
  },
  {
   "cell_type": "code",
   "execution_count": null,
   "metadata": {},
   "outputs": [],
   "source": [
    "# SVD\n",
    "from sklearn.decomposition import TruncatedSVD\n",
    "%matplotlib inline\n",
    "\n",
    "svd = TruncatedSVD(2)\n",
    "X_SVD = svd.fit_transform(X_test)\n",
    "plt.figure(figsize=(6, 5))\n",
    "colors = '#6E58EA', '#58E6EA', '#58EA79', '#EAEA58', '#EA9858'\n",
    "for i, c, label in zip(y_types, colors, y_types):\n",
    "    plt.scatter(X_SVD[y_test == i, 0], X_SVD[y_test == i, 1], c=c, label=label,alpha=.7)\n",
    "plt.legend()\n",
    "plt.title('309 SVD')\n",
    "plt.show()"
   ]
  },
  {
   "cell_type": "code",
   "execution_count": null,
   "metadata": {},
   "outputs": [],
   "source": [
    "# T-sne\n",
    "from sklearn.manifold import TSNE\n",
    "tsne = TSNE(n_components=2, random_state=0)\n",
    "X_2d = tsne.fit_transform(X_test)\n",
    "y_types = [300000,20000,10000,5000,3000]\n",
    "from matplotlib import pyplot as plt\n",
    "plt.figure(figsize=(6, 5))\n",
    "colors = '#6E58EA', '#58E6EA', '#58EA79', '#EAEA58', '#EA9858'\n",
    "for i, c, label in zip(y_types, colors, y_types):\n",
    "    plt.scatter(X_2d[y_test == i, 0], X_2d[y_test == i, 1], c=c, label=label,alpha=.3)\n",
    "plt.legend()\n",
    "plt.title('309 T-sne')\n",
    "plt.show()"
   ]
  }
 ],
 "metadata": {
  "kernelspec": {
   "display_name": "Python 3",
   "language": "python",
   "name": "python3"
  },
  "language_info": {
   "codemirror_mode": {
    "name": "ipython",
    "version": 3
   },
   "file_extension": ".py",
   "mimetype": "text/x-python",
   "name": "python",
   "nbconvert_exporter": "python",
   "pygments_lexer": "ipython3",
   "version": "3.7.7"
  }
 },
 "nbformat": 4,
 "nbformat_minor": 5
}
