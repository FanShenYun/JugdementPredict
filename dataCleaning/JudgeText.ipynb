{
 "cells": [
  {
   "cell_type": "code",
   "execution_count": null,
   "metadata": {},
   "outputs": [],
   "source": [
    "!pip install pandas\n",
    "!pip install numpy\n",
    "!pip install scikit-learn\n",
    "!pip install lxml\n",
    "!pip install html5lib"
   ]
  },
  {
   "cell_type": "code",
   "execution_count": null,
   "metadata": {},
   "outputs": [],
   "source": [
    "import pandas as pd\n",
    "# 整理 json 使用的工具\n",
    "import json\n",
    "import html5lib\n",
    "import lxml\n",
    "import requests as req\n",
    "from bs4 import BeautifulSoup as bs"
   ]
  },
  {
   "cell_type": "code",
   "execution_count": null,
   "metadata": {},
   "outputs": [],
   "source": [
    "# use pandas to read csv file\n",
    "df = pd.read_csv('ro_q.csv')\n",
    "\n",
    "# print first five row\n",
    "print(df.head())"
   ]
  },
  {
   "cell_type": "code",
   "execution_count": null,
   "metadata": {
    "scrolled": true
   },
   "outputs": [],
   "source": [
    "listLink = []\n",
    "for i in df.index:\n",
    "    for j in range(df[\"ro\"][i]):\n",
    "#         print(\"https://law.judicial.gov.tw/FJUD/data.aspx?ro={}&q={}&sort=DS&ot=in\".format(j,df[\"q\"][i]))\n",
    "        listLink.append(\"https://law.judicial.gov.tw/FJUD/data.aspx?ro={}&q={}&sort=DS&ot=in\".format(j,df[\"q\"][i]))"
   ]
  },
  {
   "cell_type": "code",
   "execution_count": null,
   "metadata": {},
   "outputs": [],
   "source": [
    "len(listLink)"
   ]
  },
  {
   "cell_type": "code",
   "execution_count": null,
   "metadata": {},
   "outputs": [],
   "source": [
    "fp = open(\"JudgeLink.json\", \"w\", encoding='utf-8')\n",
    "fp.write( json.dumps(listLink, ensure_ascii=False, indent=4) )\n",
    "fp.close()"
   ]
  },
  {
   "cell_type": "code",
   "execution_count": null,
   "metadata": {},
   "outputs": [],
   "source": [
    "for i in listLink:\n",
    "    url = \"'{}'\".format(i)\n",
    "    print(url)"
   ]
  },
  {
   "cell_type": "code",
   "execution_count": null,
   "metadata": {},
   "outputs": [],
   "source": [
    "url = 'https://law.judicial.gov.tw/FJUD/data.aspx?ro=0&q=6a51271e8feb362b55105bad16550dea&sort=DS&ot=in'\n",
    "df_test = pd.read_html(url)\n",
    "print(df_test)"
   ]
  },
  {
   "cell_type": "code",
   "execution_count": null,
   "metadata": {},
   "outputs": [],
   "source": [
    "print(df_test[0])"
   ]
  },
  {
   "cell_type": "code",
   "execution_count": null,
   "metadata": {},
   "outputs": [],
   "source": [
    "folderPath = 'JudgeText'"
   ]
  },
  {
   "cell_type": "code",
   "execution_count": null,
   "metadata": {},
   "outputs": [],
   "source": [
    "for i in range(0,len(listLink)):\n",
    "    Jug_text = pd.read_html(listLink[i])\n",
    "    df_data = Jug_text[0]\n",
    "    df_data.to_csv(f'./JudgeText/{i}.csv', index=False, header=False)\n",
    "    \n",
    "    \n",
    "\n",
    "# listText.to_csv('JugText.csv', index=True, header=False)"
   ]
  },
  {
   "cell_type": "code",
   "execution_count": null,
   "metadata": {},
   "outputs": [],
   "source": [
    "listText = []\n",
    "for i in listLink:\n",
    "#     url = \"'{}'\".format(i)\n",
    "    Jug_text = pd.read_html(i)\n",
    "    listText.append(Jug_text[0])\n",
    "\n",
    "# listText.to_csv('JugText.csv', index=True, header=False)"
   ]
  },
  {
   "cell_type": "code",
   "execution_count": null,
   "metadata": {},
   "outputs": [],
   "source": [
    "len(listText)"
   ]
  }
 ],
 "metadata": {
  "kernelspec": {
   "display_name": "Python 3",
   "language": "python",
   "name": "python3"
  },
  "language_info": {
   "codemirror_mode": {
    "name": "ipython",
    "version": 3
   },
   "file_extension": ".py",
   "mimetype": "text/x-python",
   "name": "python",
   "nbconvert_exporter": "python",
   "pygments_lexer": "ipython3",
   "version": "3.7.7"
  }
 },
 "nbformat": 4,
 "nbformat_minor": 5
}
