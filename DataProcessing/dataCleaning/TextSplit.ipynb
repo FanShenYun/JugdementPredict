{
 "cells": [
  {
   "cell_type": "code",
   "execution_count": null,
   "metadata": {},
   "outputs": [],
   "source": [
    "import pandas as pd\n",
    "import numpy as np\n",
    "import re\n",
    "import os, sys\n",
    "pd.set_option('display.max_rows', 800)"
   ]
  },
  {
   "cell_type": "markdown",
   "metadata": {},
   "source": [
    "# 主文切割"
   ]
  },
  {
   "cell_type": "code",
   "execution_count": null,
   "metadata": {
    "scrolled": true
   },
   "outputs": [],
   "source": [
    "# 讀原檔在的資料夾\n",
    "dirs = os.listdir('./totalText')\n",
    "\n",
    "# 要存文檔的list\n",
    "listData = []\n",
    "\n",
    "# 主文的結構一定是\"主文@#$%%^。\"，所以擷取主文就是要把\"主文\"跟\"。\"之間的文字擷取出來\n",
    "# 要用到三個正規化，第一個跟第二個是分割主文用，第三個是擷取csv檔名 \n",
    "regex = r'主文'\n",
    "regex2 = r'。'\n",
    "regex3 = r'[0-9]+'\n",
    "\n",
    "# 讀每個txt檔\n",
    "for file in dirs:\n",
    "    strText=\"\"\n",
    "    title = re.match(regex3,file)[0] # 擷取檔名\n",
    "    path = f'./totalText/{title}.txt'\n",
    "    f = open(path, 'r', encoding='UTF-8') # 讀檔\n",
    "    text = f.read()\n",
    "    f.close()\n",
    "    jugText = re.split(regex, text) # 第一個正規化先把\"主文\"前後切開\n",
    "    foreword = jugText[0] # 主文前的文字會是判決基礎資料，存在foreword\n",
    "    del jugText[0] # 把主文前的文字刪除\n",
    "    nextText = '主文'.join(jugText) # 因為有些文章在後文還會出現\"主文\"，所以這邊需要join起來維持後面文章的完整性\n",
    "    jugText_2 = re.split(regex2, nextText) # 第二個正規化用\"。\"切開所有段落\n",
    "    labelText = jugText_2[0] # 擷取後文的第一個句號前的文字\n",
    "    del jugText_2[0] # 刪掉主文\n",
    "    featureText = '。'.join(jugText_2) # 把後文join\n",
    "    \n",
    "    listData.append([title,foreword,labelText,featureText]) # 存到list\n",
    "\n"
   ]
  },
  {
   "cell_type": "code",
   "execution_count": null,
   "metadata": {},
   "outputs": [],
   "source": [
    "print(len(listData))"
   ]
  },
  {
   "cell_type": "code",
   "execution_count": null,
   "metadata": {
    "scrolled": true
   },
   "outputs": [],
   "source": [
    "listData[7][2]"
   ]
  },
  {
   "cell_type": "markdown",
   "metadata": {},
   "source": [
    "# 中文字轉數字"
   ]
  },
  {
   "cell_type": "code",
   "execution_count": null,
   "metadata": {},
   "outputs": [],
   "source": [
    "transList = listData.copy()\n",
    "# 輸入中數替換表\n",
    "df = pd.read_csv('./chiToNum.csv',header=None,sep=',')\n",
    "# 把DataFrame轉成Numpy形式再轉成List\n",
    "tmpNu = np.array(df)\n",
    "numList = tmpNu.tolist()"
   ]
  },
  {
   "cell_type": "code",
   "execution_count": null,
   "metadata": {},
   "outputs": [],
   "source": [
    "jugDataFrame1[3][0]"
   ]
  },
  {
   "cell_type": "code",
   "execution_count": null,
   "metadata": {
    "scrolled": true
   },
   "outputs": [],
   "source": [
    "# before\n",
    "# jugDataFrame1 = pd.DataFrame(listData) # 這一行做過一次就要註解起來，目的是要保留轉換前的文檔\n",
    "jugDataFrame1[:]"
   ]
  },
  {
   "cell_type": "code",
   "execution_count": null,
   "metadata": {},
   "outputs": [],
   "source": [
    "jugDataFrame1[27117:]"
   ]
  },
  {
   "cell_type": "code",
   "execution_count": null,
   "metadata": {},
   "outputs": [],
   "source": [
    "# 判決list的內容逐筆做文字數字轉換\n",
    "for i in range(len(transList)):\n",
    "    for j in range(len(numList)):\n",
    "        transList[i][1] = transList[i][1].replace(numList[j][0],str(numList[j][1]))\n",
    "        transList[i][2] = transList[i][2].replace(numList[j][0],str(numList[j][1]))\n",
    "        transList[i][3] = transList[i][3].replace(numList[j][0],str(numList[j][1]))"
   ]
  },
  {
   "cell_type": "code",
   "execution_count": null,
   "metadata": {},
   "outputs": [],
   "source": [
    "# after\n",
    "jugDataFrame2 = pd.DataFrame(transList)\n",
    "jugDataFrame2[27117:]"
   ]
  },
  {
   "cell_type": "code",
   "execution_count": null,
   "metadata": {},
   "outputs": [],
   "source": [
    "# 將第一次切割好的檔案輸出\n",
    "jugDataFrame2.to_csv('./splitText.csv', index=False, header=False, encoding='utf_8_sig')"
   ]
  },
  {
   "cell_type": "code",
   "execution_count": null,
   "metadata": {},
   "outputs": [],
   "source": [
    "# 把主文前一欄不必要的欄位刪掉，新增一個叫jpd的dataFrame\n",
    "jpd = jugDataFrame2.drop([1], axis=1)\n",
    "jpd.head()"
   ]
  },
  {
   "cell_type": "code",
   "execution_count": null,
   "metadata": {},
   "outputs": [],
   "source": [
    "# 空值大部分是司法程序公告，因此補值\n",
    "jpd[2]=jpd[2].replace(to_replace=\"\", value=\"司法程序公告\")\n",
    "# check\n",
    "# jpd[27117:]"
   ]
  },
  {
   "cell_type": "code",
   "execution_count": null,
   "metadata": {},
   "outputs": [],
   "source": [
    "len(jpd)"
   ]
  },
  {
   "cell_type": "code",
   "execution_count": null,
   "metadata": {
    "scrolled": true
   },
   "outputs": [],
   "source": [
    "# 提取主文內容做成標籤\n",
    "# regex提取主文內有XX天、XX元的元素；regex2是將沒有裁罰內容的判決盡量分類\n",
    "regex = r'[\\d]+日|[\\d]+天|[\\d]+元'\n",
    "regex2 = r'無罪|撤銷|更正|不受理|駁回|管轄錯誤|停止審判|停止審理|移送|免刑|免訴|再開辯論|刪除|廢棄|停止訴訟|附表|簡易判決|簡易審判|補正|應增列|應補充|通常程序|簡式審判|應於本裁定送達|判決如主文'\n",
    "\n",
    "labelList = []\n",
    "for i in range(len(jpd)):\n",
    "    # 不符regex、regex2的內容屬於無法歸類的文字直接貼上\n",
    "    if (re.search(regex2,jpd[2][i]) or re.search(regex,jpd[2][i])) == None: \n",
    "        labelList.append(jpd[2][i])      \n",
    "    # 不屬於regex2就表示符合regex，可以提取XX元、XX日、XX天的訊息，提取出的訊息的第一筆通常就是裁判結果\n",
    "    elif re.search(regex2,jpd[2][i]) == None:\n",
    "        labelList.append(re.search(regex,jpd[2][i])[0])\n",
    "    # 剩下表示屬於regex，可以進行分類，提取出的訊息的第一筆通常就是分類結果\n",
    "    else:\n",
    "        labelList.append(re.search(regex2,jpd[2][i])[0])\n",
    "\n",
    "print(len(labelList))\n",
    "print(labelList)"
   ]
  },
  {
   "cell_type": "code",
   "execution_count": null,
   "metadata": {},
   "outputs": [],
   "source": [
    "# 第一次做中數轉換表的時候會有很多沒轉成功的文字，沒轉成功的儲存格通常還是會有轉到1日、1天這種狀況\n",
    "# 因此檢查轉出來的labList是否有提取到1日，可以check沒轉成功的中文數字是那些\n",
    "for i in range(len(labelList)):\n",
    "    if labelList[i] == \"818日\":\n",
    "        print(i,jpd[2][i])\n"
   ]
  },
  {
   "cell_type": "code",
   "execution_count": null,
   "metadata": {},
   "outputs": [],
   "source": [
    "# 少部分欄位無法用程式轉成功只能人工判讀\n",
    "# labelList[20556] = \"3000元\"\n",
    "# labelList[20867] = \"3000元\"\n",
    "# labelList[22706] = \"3日\"\n",
    "# labelList[23751] = \"90日\"\n",
    "# labelList[24784] = \"3000元\"\n",
    "# labelList[25020] = \"司法程序公告\"\n",
    "# labelList[30033] = \"司法程序公告\"\n",
    "# labelList[19283] = \"100日\"\n",
    "labelList[29730] = \"88日\""
   ]
  },
  {
   "cell_type": "code",
   "execution_count": null,
   "metadata": {},
   "outputs": [],
   "source": [
    "# 把擷取出的判決結果添加上去\n",
    "jpd[1] = labelList\n",
    "jpd"
   ]
  },
  {
   "cell_type": "code",
   "execution_count": null,
   "metadata": {
    "scrolled": true
   },
   "outputs": [],
   "source": [
    "# 確認判決結果有幾種\n",
    "len(jpd[1].value_counts())"
   ]
  },
  {
   "cell_type": "code",
   "execution_count": null,
   "metadata": {
    "scrolled": false
   },
   "outputs": [],
   "source": [
    "# 確認每個判決結果的筆數，小筆數如果可以分類就回到# 提取主文內容那一格的regex2中新增分類\n",
    "jpd[1].value_counts()"
   ]
  },
  {
   "cell_type": "code",
   "execution_count": null,
   "metadata": {
    "scrolled": true
   },
   "outputs": [],
   "source": [
    "# 確認特定分類結果的判決內容是如何\n",
    "print (jpd.loc[jpd[1] == \"應於本裁定送達\"])"
   ]
  },
  {
   "cell_type": "code",
   "execution_count": null,
   "metadata": {},
   "outputs": [],
   "source": [
    "# 確認轉換前的原文\n",
    "jugDataFrame1[2][26411]"
   ]
  },
  {
   "cell_type": "code",
   "execution_count": null,
   "metadata": {},
   "outputs": [],
   "source": [
    "# 把初步提取出來的標籤做進一步的分類\n",
    "\n",
    "# 這用於分類屬於司法程序公告的對象，不屬於這類別的都歸類成司法程序公告\n",
    "regexTest = r'[\\d]+日|[\\d]+天|[\\d]+元|無罪|撤銷|不受理|駁回|免刑|免訴|附表|判決如主文' \n",
    "# 做數字提取\n",
    "regex0 = r'[\\d]+'\n",
    "# 分類屬於天數的對象\n",
    "regex1 = r'[\\d]+日|[\\d]+天'\n",
    "# 分類已有金額的對象\n",
    "regex2 = r'[\\d]+元'\n",
    "# 可能可以作為後續分析的判決類別\n",
    "regex3 = r'無罪|撤銷|不受理|駁回|免刑|免訴'\n",
    "# 這類對象判決內容寫在後面，無法用目前方法提取出來\n",
    "regex4 = r'附表|判決如主文'\n",
    "\n",
    "cleanLabelList = []\n",
    "for i in range(len(jpd)):\n",
    "    # 不屬於regexTest的都歸類成司法程序公告\n",
    "    if re.search(regexTest,jpd[1][i]) == None:\n",
    "        cleanLabelList.append(\"司法程序公告\")      \n",
    "    # 不屬於regex1~3的屬於判決結果寫在後面，需要再去看的\n",
    "    elif (re.search(regex1,jpd[1][i]) or re.search(regex2,jpd[1][i]) or re.search(regex3,jpd[1][i])) == None:\n",
    "        cleanLabelList.append(\"判決待查\")\n",
    "    # 不屬於regex1~2的為文字判決類別，直接提取關鍵字\n",
    "    elif (re.search(regex1,jpd[1][i]) or re.search(regex2,jpd[1][i])) == None:\n",
    "        cleanLabelList.append(jpd[1][i])\n",
    "    # 不屬於regex2的是判決天數，將數字提取出來後乘1000作為罰款金額\n",
    "    elif re.search(regex2,jpd[1][i]) == None:\n",
    "        days = re.search(regex0,jpd[1][i])[0]\n",
    "        payMoney = int(days) * 1000\n",
    "        cleanLabelList.append(payMoney)\n",
    "    # 剩下判決為罰款的資料，直接擷取數字部分即可\n",
    "    else:\n",
    "        payMoney = int(re.search(regex0,jpd[1][i])[0])\n",
    "        cleanLabelList.append(payMoney)\n",
    "\n",
    "print(len(cleanLabelList))\n",
    "print(cleanLabelList)"
   ]
  },
  {
   "cell_type": "code",
   "execution_count": null,
   "metadata": {},
   "outputs": [],
   "source": [
    "# 新增進一步提取過的label到jpd上\n",
    "jpd[4] = cleanLabelList\n",
    "jpd"
   ]
  },
  {
   "cell_type": "code",
   "execution_count": null,
   "metadata": {},
   "outputs": [],
   "source": [
    "# 計算剩幾種label\n",
    "len(jpd[4].value_counts())"
   ]
  },
  {
   "cell_type": "code",
   "execution_count": null,
   "metadata": {
    "scrolled": false
   },
   "outputs": [],
   "source": [
    "# 看每個label的數量\n",
    "jpd[4].value_counts()"
   ]
  },
  {
   "cell_type": "code",
   "execution_count": null,
   "metadata": {},
   "outputs": [],
   "source": [
    "# 刪掉不必要的欄位，放到jpd2\n",
    "jpd2 = jpd.drop([1,2], axis=1)\n",
    "jpd2.head()"
   ]
  },
  {
   "cell_type": "code",
   "execution_count": null,
   "metadata": {},
   "outputs": [],
   "source": [
    "# 因為屬於司法程序公告的判決無法進行分析，因此這邊刪除此類資料\n",
    "indexNames = jpd2[(jpd2[4] == \"司法程序公告\")].index\n",
    "jpd2.drop(indexNames , inplace=True)"
   ]
  },
  {
   "cell_type": "code",
   "execution_count": null,
   "metadata": {},
   "outputs": [],
   "source": [
    "jpd2.head(10)"
   ]
  },
  {
   "cell_type": "code",
   "execution_count": null,
   "metadata": {},
   "outputs": [],
   "source": [
    "indexNames = jpd2[(jpd2[4] == \"不受理\")].index\n",
    "jpd2.drop(indexNames , inplace=True)\n",
    "indexNames = jpd2[(jpd2[4] == \"駁回\")].index\n",
    "jpd2.drop(indexNames , inplace=True)\n",
    "indexNames = jpd2[(jpd2[4] == \"撤銷\")].index\n",
    "jpd2.drop(indexNames , inplace=True)\n",
    "indexNames = jpd2[(jpd2[4] == \"無罪\")].index\n",
    "jpd2.drop(indexNames , inplace=True)\n",
    "indexNames = jpd2[(jpd2[4] == \"判決待查\")].index\n",
    "jpd2.drop(indexNames , inplace=True)\n",
    "indexNames = jpd2[(jpd2[4] == \"免訴\")].index\n",
    "jpd2.drop(indexNames , inplace=True)\n",
    "indexNames = jpd2[(jpd2[4] == \"免刑\")].index\n",
    "jpd2.drop(indexNames , inplace=True)"
   ]
  },
  {
   "cell_type": "code",
   "execution_count": null,
   "metadata": {
    "scrolled": true
   },
   "outputs": [],
   "source": [
    "jpd2[4].value_counts()"
   ]
  },
  {
   "cell_type": "code",
   "execution_count": null,
   "metadata": {},
   "outputs": [],
   "source": [
    "# 輸出成csv檔\n",
    "jpd2.to_csv('./onlyBillText2.csv', index=False, header=False, encoding='utf_8_sig')"
   ]
  },
  {
   "cell_type": "code",
   "execution_count": null,
   "metadata": {},
   "outputs": [],
   "source": [
    "jpd2"
   ]
  }
 ],
 "metadata": {
  "kernelspec": {
   "display_name": "Python 3",
   "language": "python",
   "name": "python3"
  },
  "language_info": {
   "codemirror_mode": {
    "name": "ipython",
    "version": 3
   },
   "file_extension": ".py",
   "mimetype": "text/x-python",
   "name": "python",
   "nbconvert_exporter": "python",
   "pygments_lexer": "ipython3",
   "version": "3.7.7"
  }
 },
 "nbformat": 4,
 "nbformat_minor": 5
}
